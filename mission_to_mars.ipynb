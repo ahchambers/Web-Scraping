{
 "metadata": {
  "language_info": {
   "codemirror_mode": {
    "name": "ipython",
    "version": 3
   },
   "file_extension": ".py",
   "mimetype": "text/x-python",
   "name": "python",
   "nbconvert_exporter": "python",
   "pygments_lexer": "ipython3",
   "version": "3.7.6-final"
  },
  "orig_nbformat": 2,
  "kernelspec": {
   "name": "python3",
   "display_name": "Python 3",
   "language": "python"
  }
 },
 "nbformat": 4,
 "nbformat_minor": 2,
 "cells": [
  {
   "source": [
    "## NASA Mars News"
   ],
   "cell_type": "markdown",
   "metadata": {}
  },
  {
   "cell_type": "code",
   "execution_count": 1,
   "metadata": {},
   "outputs": [],
   "source": [
    "#Dependencies\n",
    "from splinter import Browser\n",
    "from bs4 import BeautifulSoup as bs\n",
    "import pandas as pd"
   ]
  },
  {
   "cell_type": "code",
   "execution_count": 2,
   "metadata": {},
   "outputs": [],
   "source": [
    "#Set path and initialize chrome borwser \n",
    "executable_path = {'chromedriver.exe'}\n",
    "browser = Browser('chrome', executable_path, headless=False)"
   ]
  },
  {
   "cell_type": "code",
   "execution_count": 3,
   "metadata": {},
   "outputs": [],
   "source": [
    "#Visit url\n",
    "url = 'https://mars.nasa.gov/news/'\n",
    "browser.visit(url)"
   ]
  },
  {
   "cell_type": "code",
   "execution_count": 4,
   "metadata": {},
   "outputs": [],
   "source": [
    "#Convert browser html to soup object\n",
    "html = browser.html\n",
    "news_soup = bs(html, 'html.parser')"
   ]
  },
  {
   "cell_type": "code",
   "execution_count": 5,
   "metadata": {},
   "outputs": [],
   "source": [
    "#Create empty lists for titles and paragraphs\n",
    "titles=[]\n",
    "news_p=[]\n",
    "\n",
    "#Assign titles to variable\n",
    "title_search=news_soup.find_all('div', class_='content_title')\n",
    "for title in title_search:\n",
    "    titles.append(title.text.strip())\n",
    "\n",
    "#Assign paragraphs to variable\n",
    "p_search=news_soup.find_all('div', class_='article_teaser_body')\n",
    "for p in p_search:\n",
    "    news_p.append(p.text.strip())"
   ]
  },
  {
   "source": [
    "## JPL Featured Image"
   ],
   "cell_type": "markdown",
   "metadata": {}
  },
  {
   "cell_type": "code",
   "execution_count": 6,
   "metadata": {},
   "outputs": [],
   "source": [
    "#Visit url\n",
    "url_1 = 'https://www.jpl.nasa.gov/spaceimages/?search=&category=Mars'\n",
    "browser.visit(url_1)"
   ]
  },
  {
   "cell_type": "code",
   "execution_count": 7,
   "metadata": {},
   "outputs": [],
   "source": [
    "#Find full size image\n",
    "browser.click_link_by_partial_text('FULL IMAGE')"
   ]
  },
  {
   "cell_type": "code",
   "execution_count": 8,
   "metadata": {},
   "outputs": [],
   "source": [
    "#Find full size image\n",
    "browser.click_link_by_partial_text('more info')"
   ]
  },
  {
   "cell_type": "code",
   "execution_count": 9,
   "metadata": {},
   "outputs": [],
   "source": [
    "#Convert browser html to soup object\n",
    "html_1 = browser.html\n",
    "pic_soup = bs(html_1, 'lxml')"
   ]
  },
  {
   "cell_type": "code",
   "execution_count": 10,
   "metadata": {},
   "outputs": [],
   "source": [
    "#Find featued image url\n",
    "results=pic_soup.find('figure', class_='lede')\n",
    "featured_path=results.a['href']\n",
    "featured_image_url='https://www.jpl.nasa.gov'+featured_path"
   ]
  },
  {
   "source": [
    "## Mars Facts"
   ],
   "cell_type": "markdown",
   "metadata": {}
  },
  {
   "cell_type": "code",
   "execution_count": 11,
   "metadata": {},
   "outputs": [],
   "source": [
    "#Enter url\n",
    "url_2 = 'https://space-facts.com/mars/'"
   ]
  },
  {
   "cell_type": "code",
   "execution_count": 12,
   "metadata": {},
   "outputs": [],
   "source": [
    "#Use pandas to scrape table\n",
    "tables = pd.read_html(url_2)"
   ]
  },
  {
   "source": [
    "#Select table and clean up\n",
    "mars_df=tables[0]\n",
    "mars_df.columns=[\"Description\", 'Mars']\n",
    "mars_df.set_index(\"Description\", inplace=True)"
   ],
   "cell_type": "code",
   "metadata": {},
   "execution_count": 13,
   "outputs": []
  },
  {
   "cell_type": "code",
   "execution_count": 16,
   "metadata": {},
   "outputs": [
    {
     "output_type": "execute_result",
     "data": {
      "text/plain": [
       "'<table border=\"1\" class=\"dataframe\">\\n  <thead>\\n    <tr style=\"text-align: right;\">\\n      <th></th>\\n      <th>Mars</th>\\n    </tr>\\n    <tr>\\n      <th>Description</th>\\n      <th></th>\\n    </tr>\\n  </thead>\\n  <tbody>\\n    <tr>\\n      <th>Equatorial Diameter:</th>\\n      <td>6,792 km</td>\\n    </tr>\\n    <tr>\\n      <th>Polar Diameter:</th>\\n      <td>6,752 km</td>\\n    </tr>\\n    <tr>\\n      <th>Mass:</th>\\n      <td>6.39 × 10^23 kg (0.11 Earths)</td>\\n    </tr>\\n    <tr>\\n      <th>Moons:</th>\\n      <td>2 (Phobos &amp; Deimos)</td>\\n    </tr>\\n    <tr>\\n      <th>Orbit Distance:</th>\\n      <td>227,943,824 km (1.38 AU)</td>\\n    </tr>\\n    <tr>\\n      <th>Orbit Period:</th>\\n      <td>687 days (1.9 years)</td>\\n    </tr>\\n    <tr>\\n      <th>Surface Temperature:</th>\\n      <td>-87 to -5 °C</td>\\n    </tr>\\n    <tr>\\n      <th>First Record:</th>\\n      <td>2nd millennium BC</td>\\n    </tr>\\n    <tr>\\n      <th>Recorded By:</th>\\n      <td>Egyptian astronomers</td>\\n    </tr>\\n  </tbody>\\n</table>'"
      ]
     },
     "metadata": {},
     "execution_count": 16
    }
   ],
   "source": [
    "#Covert table to html string\n",
    "mars_df.to_html()"
   ]
  },
  {
   "source": [
    "## Mars Hemispheres"
   ],
   "cell_type": "markdown",
   "metadata": {}
  },
  {
   "cell_type": "code",
   "execution_count": 17,
   "metadata": {},
   "outputs": [],
   "source": [
    "#Visit url\n",
    "url_3 = 'https://astrogeology.usgs.gov/search/results?q=hemisphere+enhanced&k1=target&v1=Mars'\n",
    "browser.visit(url_3)"
   ]
  },
  {
   "cell_type": "code",
   "execution_count": 18,
   "metadata": {},
   "outputs": [],
   "source": [
    "#Convert browser html to soup object\n",
    "html_3 = browser.html\n",
    "hemi_soup = bs(html_3, 'html.parser')"
   ]
  },
  {
   "cell_type": "code",
   "execution_count": 19,
   "metadata": {},
   "outputs": [],
   "source": [
    "#Create list of titles\n",
    "image_titles=[]\n",
    "\n",
    "titles=hemi_soup.find_all('img', class_=\"thumb\")\n",
    "\n",
    "for title in titles:\n",
    "         image_title= title['alt']\n",
    "         image_titles.append(image_title)\n",
    "\n",
    "#Create list of image urls\n",
    "image_urls=[]\n",
    "\n",
    "links=hemi_soup.find_all('a', class_=\"itemLink product-item\")\n",
    "\n",
    "for link in links:\n",
    "    if (link.img):\n",
    "        # image_url= 'https://astrogeology.usgs.gov/' +link['href']\n",
    "        image_urls.append(link.img)\n",
    "\n",
    "#Loop through image_urls to find url for full size image \n",
    "full_image_urls=image_urls\n",
    "\n",
    "# for url in image_urls:\n",
    "#     browser.visit(url)\n",
    "\n",
    "#     html_4 = browser.html\n",
    "#     hemi_image_soup = bs(html_4, 'html.parser')\n",
    "\n",
    "#     results = hemi_image_soup.find_all('img', class_='wide-image')\n",
    "#     relative_img_path = results[0]['src']\n",
    "#     link = 'https://astrogeology.usgs.gov/' + relative_img_path\n",
    "#     full_image_urls.append(link)\n",
    "\n",
    "#Create list of dictionaries\n",
    "hemispheres=[]\n",
    "\n",
    "mars_zip=zip(titles, full_image_urls)\n",
    "\n",
    "# Iterate through the zipped object\n",
    "for title, img in mars_zip:\n",
    "    mars_dict = {}\n",
    "    mars_dict['title'] = title\n",
    "    mars_dict['img_url'] = img\n",
    "    hemispheres.append(mars_dict)"
   ]
  },
  {
   "cell_type": "code",
   "execution_count": null,
   "metadata": {},
   "outputs": [],
   "source": []
  }
 ]
}